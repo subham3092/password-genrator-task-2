{
 "cells": [
  {
   "cell_type": "code",
   "execution_count": 12,
   "id": "e37153d0-b7fc-409c-8b03-936a3a8e851f",
   "metadata": {},
   "outputs": [],
   "source": [
    "import tkinter as tk\n",
    "import random\n",
    "import string\n",
    "\n",
    "def genrator_password(length):\n",
    "    if length < 4:\n",
    "        return \"Password length should be at least 4 for better security.\"\n",
    "    upper = string.ascii_uppercase\n",
    "    lower = string.ascii_lowercase\n",
    "    digits = string.digits\n",
    "    special = string.punctuation\n",
    "\n",
    "    all_charecters = upper + lower + digits + special\n",
    "\n",
    "    password = [\n",
    "        random.choice(upper),\n",
    "        random.choice(lower),\n",
    "        random.choice(digits),\n",
    "        random.choice(special)\n",
    "    ]\n",
    "\n",
    "    password += random.choices(all_charecters, k = length - 4)\n",
    "    random.shuffle(password)\n",
    "    return ''.join(password)\n",
    "\n",
    "def on_generator():\n",
    "    try:\n",
    "        user_choice = int(length_entry.get())\n",
    "        result = genrator_password(user_choice)\n",
    "        result_label.config(text = result)\n",
    "    except ValueError:\n",
    "        result_label.config(text = \"Please enter a valid number.\")\n",
    "\n",
    "window = tk.Tk()\n",
    "window.title(\"Password generator\")\n",
    "window.geometry('400x300')\n",
    "\n",
    "tk.Label(window, text = \"Enter Password length:\").pack(pady = 10)\n",
    "length_entry = tk.Entry(window)\n",
    "length_entry.pack()\n",
    "\n",
    "generator_button = tk.Button(window, text = \"Password Generator\", command = on_generator)\n",
    "generator_button.pack(pady = 10)\n",
    "\n",
    "result_label = tk.Label(window, text = \"\", fg = \"blue\", font = (\"Helvetice\", 12))\n",
    "result_label.pack(pady = 10)\n",
    "\n",
    "window.mainloop()"
   ]
  },
  {
   "cell_type": "code",
   "execution_count": null,
   "id": "2b4517b9-7b2e-46f5-9f0b-3525c76ab88c",
   "metadata": {},
   "outputs": [],
   "source": []
  }
 ],
 "metadata": {
  "kernelspec": {
   "display_name": "Python 3 (ipykernel)",
   "language": "python",
   "name": "python3"
  },
  "language_info": {
   "codemirror_mode": {
    "name": "ipython",
    "version": 3
   },
   "file_extension": ".py",
   "mimetype": "text/x-python",
   "name": "python",
   "nbconvert_exporter": "python",
   "pygments_lexer": "ipython3",
   "version": "3.13.1"
  },
  "widgets": {
   "application/vnd.jupyter.widget-state+json": {
    "state": {},
    "version_major": 2,
    "version_minor": 0
   }
  }
 },
 "nbformat": 4,
 "nbformat_minor": 5
}
